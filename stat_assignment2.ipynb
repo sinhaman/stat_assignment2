{
 "cells": [
  {
   "cell_type": "markdown",
   "id": "60241734",
   "metadata": {},
   "source": [
    "1. What is a random variable in probability theory?\n",
    "A random variable is a variable whose values are determined by the outcomes of a random phenomenon. It maps outcomes of a random process to numerical values.\n",
    "\n"
   ]
  },
  {
   "cell_type": "markdown",
   "id": "976fddcb",
   "metadata": {},
   "source": [
    "2. What are the types of random variables?\n",
    "Discrete random variables: Take on a countable number of values (e.g., number of heads in coin tosses).\n",
    "\n",
    "Continuous random variables: Take on an infinite number of values within a range (e.g., height, temperature)."
   ]
  },
  {
   "cell_type": "markdown",
   "id": "9d04b55b",
   "metadata": {},
   "source": [
    "3. What is the difference between discrete and continuous distributions?\n",
    "Discrete distributions describe probabilities of a discrete random variable (e.g., Binomial).\n",
    "\n",
    "Continuous distributions describe probabilities for continuous variables and are represented using probability density functions (PDFs) (e.g., Normal distribution).\n",
    "\n"
   ]
  },
  {
   "cell_type": "markdown",
   "id": "862a1f7e",
   "metadata": {},
   "source": [
    "4. What are probability distribution functions (PDFs)?\n",
    "A Probability Distribution Function gives the probability that a continuous random variable falls within a particular range. The total area under a PDF curve equals 1.\n",
    "\n"
   ]
  },
  {
   "cell_type": "markdown",
   "id": "a5c7f8d6",
   "metadata": {},
   "source": [
    "5. How do cumulative distribution functions (CDF) differ from PDFs?\n",
    "PDF gives the instantaneous probability density at a point.\n",
    "\n",
    "CDF gives the probability that a random variable is less than or equal to a certain value. It's the area under the PDF curve up to that point."
   ]
  },
  {
   "cell_type": "markdown",
   "id": "c68bfaa4",
   "metadata": {},
   "source": [
    "6. What is a discrete uniform distribution?\n",
    "A discrete uniform distribution assigns equal probability to all possible outcomes in a finite set (e.g., rolling a fair die)."
   ]
  },
  {
   "cell_type": "markdown",
   "id": "abff5d70",
   "metadata": {},
   "source": [
    "7. What are the key properties of a Bernoulli distribution?\n",
    "Only two outcomes: success (1) or failure (0).\n",
    "\n",
    "One trial.\n",
    "\n",
    "Probability of success = 𝑝p; failure = 1−𝑝1−p.Mean = 𝑝p, Variance = 𝑝(1−𝑝)p(1−p)"
   ]
  },
  {
   "cell_type": "markdown",
   "id": "e5326d9e",
   "metadata": {},
   "source": [
    "8. What is the binomial distribution, and how is it used in probability?\n",
    "The binomial distribution models the number of successes in \n",
    "𝑛\n",
    "n independent Bernoulli trials with success probability \n",
    "𝑝\n",
    "p.\n",
    "Used in scenarios like: “What’s the probability of getting exactly 3 heads in 5 coin tosses?”\n",
    "\n"
   ]
  },
  {
   "cell_type": "markdown",
   "id": "3fdacb36",
   "metadata": {},
   "source": [
    "9. What is the Poisson distribution and where is it applied?\n",
    "The Poisson distribution models the number of events in a fixed interval of time/space when events occur independently and at a constant rate.\n",
    "Used in: call arrivals at a call center, decay of radioactive atoms, etc.\n",
    "\n"
   ]
  },
  {
   "cell_type": "markdown",
   "id": "06d1804d",
   "metadata": {},
   "source": [
    "10. What is a continuous uniform distribution?\n",
    "It assigns equal probability to all outcomes in a continuous interval. For example, the time a bus arrives between 1 PM and 2 PM if it's equally likely to arrive at any time in that window.\n",
    "\n"
   ]
  },
  {
   "cell_type": "markdown",
   "id": "509ca012",
   "metadata": {},
   "source": [
    "11. What are the characteristics of a normal distribution?\n",
    "Symmetrical, bell-shaped curve.\n",
    "\n",
    "Mean = Median = Mode.\n",
    "\n",
    "Defined by mean \n",
    "𝜇\n",
    "μ and standard deviation \n",
    "𝜎\n",
    "σ.\n",
    "\n",
    "68% of values fall within 1σ, 95% within 2σ, 99.7% within 3σ."
   ]
  },
  {
   "cell_type": "markdown",
   "id": "4192db9f",
   "metadata": {},
   "source": [
    "12. What is the standard normal distribution, and why is it important?\n",
    "A standard normal distribution is a normal distribution with mean 0 and standard deviation 1.\n",
    "It simplifies calculations and is used for Z-score standardization.\n",
    "\n"
   ]
  },
  {
   "cell_type": "markdown",
   "id": "29cc5ade",
   "metadata": {},
   "source": [
    "13. What is the Central Limit Theorem (CLT), and why is it critical in statistics?\n",
    "The CLT states that the sampling distribution of the sample mean approaches a normal distribution as the sample size increases, regardless of the population’s original distribution.\n",
    "Important for making inferences about population means using normal-based methods.\n",
    "\n"
   ]
  },
  {
   "cell_type": "markdown",
   "id": "f9de52b2",
   "metadata": {},
   "source": [
    "14. How does the Central Limit Theorem relate to the normal distribution?\n",
    "CLT justifies using the normal distribution to approximate the sampling distribution of sample means, especially when \n",
    "𝑛≥30.\n"
   ]
  },
  {
   "cell_type": "markdown",
   "id": "fca65fdd",
   "metadata": {},
   "source": [
    "15. What is the application of Z-statistics in hypothesis testing?\n",
    "Z-statistics help determine how far a sample statistic is from the population mean in standard deviation units.\n",
    "Used to test hypotheses about population means or proportions when population variance is known.\n",
    "\n"
   ]
  },
  {
   "cell_type": "markdown",
   "id": "669153fa",
   "metadata": {},
   "source": [
    "16. How do you calculate a Z-score, and what does it represent?\n",
    "𝑍=(X−μ)/𝜎\n",
    "​\n",
    " \n",
    "Where:\n",
    "X = data point,\n",
    "μ = mean,\n",
    "σ = standard deviation.\n",
    "It represents how many standard deviations a point is from the mean."
   ]
  },
  {
   "cell_type": "markdown",
   "id": "b2ea3361",
   "metadata": {},
   "source": [
    "17. What are point estimates and interval estimates in statistics?\n",
    "Point estimate: A single value (e.g., sample mean) used to estimate a population parameter.\n",
    "\n",
    "Interval estimate: A range of values (e.g., confidence interval) likely to contain the population parameter.\n",
    "\n"
   ]
  },
  {
   "cell_type": "markdown",
   "id": "9166c15a",
   "metadata": {},
   "source": [
    "18. What is the significance of confidence intervals in statistical analysis?\n",
    "Confidence intervals provide a range within which the population parameter is expected to lie with a certain level of confidence (e.g., 95%)."
   ]
  },
  {
   "cell_type": "markdown",
   "id": "a6b38177",
   "metadata": {},
   "source": [
    "19. What is the relationship between a Z-score and a confidence interval?\n",
    "Z-scores determine the critical values for confidence intervals.\n",
    "For example, a 95% CI uses Z ≈ 1.96."
   ]
  },
  {
   "cell_type": "markdown",
   "id": "7b7f51fa",
   "metadata": {},
   "source": [
    "20. How are Z-scores used to compare different distributions?\n",
    "Z-scores standardize data from different distributions, allowing for direct comparisons regardless of the original scale or units."
   ]
  },
  {
   "cell_type": "markdown",
   "id": "c0e6c9a4",
   "metadata": {},
   "source": [
    "21. What are the assumptions for applying the Central Limit Theorem?\n",
    "Random sampling.\n",
    "\n",
    "Independent observations.\n",
    "\n",
    "Sample size should be large (usually n≥30).\n",
    "\n",
    "Finite population variance."
   ]
  },
  {
   "cell_type": "markdown",
   "id": "1d839193",
   "metadata": {},
   "source": [
    "22. What is the concept of expected value in a probability distribution?\n",
    "The expected value is the long-run average or mean of a random variable.\n",
    "\n",
    "𝐸\n",
    "(𝑋)=∑𝑥⋅𝑃(𝑥)(discrete)or∫𝑥\n",
    "𝑓(𝑥) 𝑑𝑥(continuous)\n",
    "E(X)=∑x⋅P(x)(discrete)or∫x⋅f(x)dx(continuous)"
   ]
  },
  {
   "cell_type": "markdown",
   "id": "042ffc6e",
   "metadata": {},
   "source": [
    "23. How does a probability distribution relate to the expected outcome of a random variable?\n",
    "The probability distribution determines the weights (probabilities) of each possible outcome, and the expected outcome is the weighted average of these outcomes."
   ]
  },
  {
   "cell_type": "markdown",
   "id": "248e55b3",
   "metadata": {},
   "source": []
  }
 ],
 "metadata": {
  "language_info": {
   "name": "python"
  }
 },
 "nbformat": 4,
 "nbformat_minor": 5
}
